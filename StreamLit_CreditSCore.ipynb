{
  "nbformat": 4,
  "nbformat_minor": 0,
  "metadata": {
    "colab": {
      "provenance": []
    },
    "kernelspec": {
      "name": "python3",
      "display_name": "Python 3"
    },
    "language_info": {
      "name": "python"
    }
  },
  "cells": [
    {
      "cell_type": "code",
      "source": [
        "#pip install keras"
      ],
      "metadata": {
        "id": "jJLmwt2sNJeo"
      },
      "execution_count": 2,
      "outputs": []
    },
    {
      "cell_type": "code",
      "source": [],
      "metadata": {
        "id": "643niMCNUnOc"
      },
      "execution_count": null,
      "outputs": []
    },
    {
      "cell_type": "code",
      "source": [
        "#pip install tensorflow"
      ],
      "metadata": {
        "id": "Fi-WStPPNXDf"
      },
      "execution_count": 3,
      "outputs": []
    },
    {
      "cell_type": "code",
      "source": [
        "#pip install streamlit"
      ],
      "metadata": {
        "id": "EGwpYCOPPX0B",
        "outputId": "5e7282c7-84a8-4917-8546-c518fe756b17",
        "colab": {
          "base_uri": "https://localhost:8080/"
        }
      },
      "execution_count": 6,
      "outputs": [
        {
          "output_type": "stream",
          "name": "stdout",
          "text": [
            "Collecting streamlit\n",
            "  Downloading streamlit-1.27.2-py2.py3-none-any.whl (7.6 MB)\n",
            "\u001b[2K     \u001b[90m━━━━━━━━━━━━━━━━━━━━━━━━━━━━━━━━━━━━━━━━\u001b[0m \u001b[32m7.6/7.6 MB\u001b[0m \u001b[31m9.0 MB/s\u001b[0m eta \u001b[36m0:00:00\u001b[0m\n",
            "\u001b[?25hRequirement already satisfied: altair<6,>=4.0 in /usr/local/lib/python3.10/dist-packages (from streamlit) (4.2.2)\n",
            "Requirement already satisfied: blinker<2,>=1.0.0 in /usr/lib/python3/dist-packages (from streamlit) (1.4)\n",
            "Requirement already satisfied: cachetools<6,>=4.0 in /usr/local/lib/python3.10/dist-packages (from streamlit) (5.3.1)\n",
            "Requirement already satisfied: click<9,>=7.0 in /usr/local/lib/python3.10/dist-packages (from streamlit) (8.1.7)\n",
            "Requirement already satisfied: importlib-metadata<7,>=1.4 in /usr/local/lib/python3.10/dist-packages (from streamlit) (6.8.0)\n",
            "Requirement already satisfied: numpy<2,>=1.19.3 in /usr/local/lib/python3.10/dist-packages (from streamlit) (1.23.5)\n",
            "Requirement already satisfied: packaging<24,>=16.8 in /usr/local/lib/python3.10/dist-packages (from streamlit) (23.2)\n",
            "Requirement already satisfied: pandas<3,>=1.3.0 in /usr/local/lib/python3.10/dist-packages (from streamlit) (1.5.3)\n",
            "Requirement already satisfied: pillow<11,>=7.1.0 in /usr/local/lib/python3.10/dist-packages (from streamlit) (9.4.0)\n",
            "Requirement already satisfied: protobuf<5,>=3.20 in /usr/local/lib/python3.10/dist-packages (from streamlit) (3.20.3)\n",
            "Requirement already satisfied: pyarrow>=6.0 in /usr/local/lib/python3.10/dist-packages (from streamlit) (9.0.0)\n",
            "Requirement already satisfied: python-dateutil<3,>=2.7.3 in /usr/local/lib/python3.10/dist-packages (from streamlit) (2.8.2)\n",
            "Requirement already satisfied: requests<3,>=2.27 in /usr/local/lib/python3.10/dist-packages (from streamlit) (2.31.0)\n",
            "Requirement already satisfied: rich<14,>=10.14.0 in /usr/local/lib/python3.10/dist-packages (from streamlit) (13.6.0)\n",
            "Requirement already satisfied: tenacity<9,>=8.1.0 in /usr/local/lib/python3.10/dist-packages (from streamlit) (8.2.3)\n",
            "Requirement already satisfied: toml<2,>=0.10.1 in /usr/local/lib/python3.10/dist-packages (from streamlit) (0.10.2)\n",
            "Requirement already satisfied: typing-extensions<5,>=4.3.0 in /usr/local/lib/python3.10/dist-packages (from streamlit) (4.5.0)\n",
            "Requirement already satisfied: tzlocal<6,>=1.1 in /usr/local/lib/python3.10/dist-packages (from streamlit) (5.1)\n",
            "Collecting validators<1,>=0.2 (from streamlit)\n",
            "  Downloading validators-0.22.0-py3-none-any.whl (26 kB)\n",
            "Collecting gitpython!=3.1.19,<4,>=3.0.7 (from streamlit)\n",
            "  Downloading GitPython-3.1.37-py3-none-any.whl (190 kB)\n",
            "\u001b[2K     \u001b[90m━━━━━━━━━━━━━━━━━━━━━━━━━━━━━━━━━━━━━━\u001b[0m \u001b[32m190.0/190.0 kB\u001b[0m \u001b[31m14.9 MB/s\u001b[0m eta \u001b[36m0:00:00\u001b[0m\n",
            "\u001b[?25hCollecting pydeck<1,>=0.8.0b4 (from streamlit)\n",
            "  Downloading pydeck-0.8.1b0-py2.py3-none-any.whl (4.8 MB)\n",
            "\u001b[2K     \u001b[90m━━━━━━━━━━━━━━━━━━━━━━━━━━━━━━━━━━━━━━━━\u001b[0m \u001b[32m4.8/4.8 MB\u001b[0m \u001b[31m16.1 MB/s\u001b[0m eta \u001b[36m0:00:00\u001b[0m\n",
            "\u001b[?25hRequirement already satisfied: tornado<7,>=6.0.3 in /usr/local/lib/python3.10/dist-packages (from streamlit) (6.3.2)\n",
            "Collecting watchdog>=2.1.5 (from streamlit)\n",
            "  Downloading watchdog-3.0.0-py3-none-manylinux2014_x86_64.whl (82 kB)\n",
            "\u001b[2K     \u001b[90m━━━━━━━━━━━━━━━━━━━━━━━━━━━━━━━━━━━━━━━━\u001b[0m \u001b[32m82.1/82.1 kB\u001b[0m \u001b[31m7.9 MB/s\u001b[0m eta \u001b[36m0:00:00\u001b[0m\n",
            "\u001b[?25hRequirement already satisfied: entrypoints in /usr/local/lib/python3.10/dist-packages (from altair<6,>=4.0->streamlit) (0.4)\n",
            "Requirement already satisfied: jinja2 in /usr/local/lib/python3.10/dist-packages (from altair<6,>=4.0->streamlit) (3.1.2)\n",
            "Requirement already satisfied: jsonschema>=3.0 in /usr/local/lib/python3.10/dist-packages (from altair<6,>=4.0->streamlit) (4.19.1)\n",
            "Requirement already satisfied: toolz in /usr/local/lib/python3.10/dist-packages (from altair<6,>=4.0->streamlit) (0.12.0)\n",
            "Collecting gitdb<5,>=4.0.1 (from gitpython!=3.1.19,<4,>=3.0.7->streamlit)\n",
            "  Downloading gitdb-4.0.10-py3-none-any.whl (62 kB)\n",
            "\u001b[2K     \u001b[90m━━━━━━━━━━━━━━━━━━━━━━━━━━━━━━━━━━━━━━━━\u001b[0m \u001b[32m62.7/62.7 kB\u001b[0m \u001b[31m6.4 MB/s\u001b[0m eta \u001b[36m0:00:00\u001b[0m\n",
            "\u001b[?25hRequirement already satisfied: zipp>=0.5 in /usr/local/lib/python3.10/dist-packages (from importlib-metadata<7,>=1.4->streamlit) (3.17.0)\n",
            "Requirement already satisfied: pytz>=2020.1 in /usr/local/lib/python3.10/dist-packages (from pandas<3,>=1.3.0->streamlit) (2023.3.post1)\n",
            "Requirement already satisfied: six>=1.5 in /usr/local/lib/python3.10/dist-packages (from python-dateutil<3,>=2.7.3->streamlit) (1.16.0)\n",
            "Requirement already satisfied: charset-normalizer<4,>=2 in /usr/local/lib/python3.10/dist-packages (from requests<3,>=2.27->streamlit) (3.3.0)\n",
            "Requirement already satisfied: idna<4,>=2.5 in /usr/local/lib/python3.10/dist-packages (from requests<3,>=2.27->streamlit) (3.4)\n",
            "Requirement already satisfied: urllib3<3,>=1.21.1 in /usr/local/lib/python3.10/dist-packages (from requests<3,>=2.27->streamlit) (2.0.6)\n",
            "Requirement already satisfied: certifi>=2017.4.17 in /usr/local/lib/python3.10/dist-packages (from requests<3,>=2.27->streamlit) (2023.7.22)\n",
            "Requirement already satisfied: markdown-it-py>=2.2.0 in /usr/local/lib/python3.10/dist-packages (from rich<14,>=10.14.0->streamlit) (3.0.0)\n",
            "Requirement already satisfied: pygments<3.0.0,>=2.13.0 in /usr/local/lib/python3.10/dist-packages (from rich<14,>=10.14.0->streamlit) (2.16.1)\n",
            "Collecting smmap<6,>=3.0.1 (from gitdb<5,>=4.0.1->gitpython!=3.1.19,<4,>=3.0.7->streamlit)\n",
            "  Downloading smmap-5.0.1-py3-none-any.whl (24 kB)\n",
            "Requirement already satisfied: MarkupSafe>=2.0 in /usr/local/lib/python3.10/dist-packages (from jinja2->altair<6,>=4.0->streamlit) (2.1.3)\n",
            "Requirement already satisfied: attrs>=22.2.0 in /usr/local/lib/python3.10/dist-packages (from jsonschema>=3.0->altair<6,>=4.0->streamlit) (23.1.0)\n",
            "Requirement already satisfied: jsonschema-specifications>=2023.03.6 in /usr/local/lib/python3.10/dist-packages (from jsonschema>=3.0->altair<6,>=4.0->streamlit) (2023.7.1)\n",
            "Requirement already satisfied: referencing>=0.28.4 in /usr/local/lib/python3.10/dist-packages (from jsonschema>=3.0->altair<6,>=4.0->streamlit) (0.30.2)\n",
            "Requirement already satisfied: rpds-py>=0.7.1 in /usr/local/lib/python3.10/dist-packages (from jsonschema>=3.0->altair<6,>=4.0->streamlit) (0.10.3)\n",
            "Requirement already satisfied: mdurl~=0.1 in /usr/local/lib/python3.10/dist-packages (from markdown-it-py>=2.2.0->rich<14,>=10.14.0->streamlit) (0.1.2)\n",
            "Installing collected packages: watchdog, validators, smmap, pydeck, gitdb, gitpython, streamlit\n",
            "Successfully installed gitdb-4.0.10 gitpython-3.1.37 pydeck-0.8.1b0 smmap-5.0.1 streamlit-1.27.2 validators-0.22.0 watchdog-3.0.0\n"
          ]
        }
      ]
    },
    {
      "cell_type": "code",
      "execution_count": 7,
      "metadata": {
        "id": "Jdul7AY37sS-"
      },
      "outputs": [],
      "source": [
        "import streamlit as st\n",
        "import pickle\n",
        "import pandas as pd\n",
        "import numpy as np\n",
        "import joblib\n",
        "import os\n",
        "import seaborn as sns\n",
        "import matplotlib.pyplot as plt\n",
        "import tensorflow as tf\n",
        "from tensorflow import keras"
      ]
    },
    {
      "cell_type": "code",
      "source": [
        "import warnings\n",
        "warnings.simplefilter(action='ignore', category=FutureWarning)"
      ],
      "metadata": {
        "id": "AsE2p-PQOsY8"
      },
      "execution_count": 8,
      "outputs": []
    },
    {
      "cell_type": "code",
      "source": [
        "scaler = joblib.load('credit_scaler.pkl')\n",
        "#model = pickle.load(open('credit_model.pkl','rb'))\n",
        "pickle_in = open('credit_model.pkl', 'rb')\n",
        "model = pickle.load(pickle_in)\n",
        "\n"
      ],
      "metadata": {
        "id": "d6QRIMwZCpkb"
      },
      "execution_count": 10,
      "outputs": []
    },
    {
      "cell_type": "code",
      "source": [
        "model.summary()"
      ],
      "metadata": {
        "id": "dfVF37saL4xr",
        "outputId": "33f4418e-876c-4d01-d7c4-7c622d0a2e66",
        "colab": {
          "base_uri": "https://localhost:8080/"
        }
      },
      "execution_count": 11,
      "outputs": [
        {
          "output_type": "stream",
          "name": "stdout",
          "text": [
            "Model: \"sequential\"\n",
            "_________________________________________________________________\n",
            " Layer (type)                Output Shape              Param #   \n",
            "=================================================================\n",
            " dense (Dense)               (None, 256)               10752     \n",
            "                                                                 \n",
            " batch_normalization (Batch  (None, 256)               1024      \n",
            " Normalization)                                                  \n",
            "                                                                 \n",
            " dropout (Dropout)           (None, 256)               0         \n",
            "                                                                 \n",
            " dense_1 (Dense)             (None, 192)               49344     \n",
            "                                                                 \n",
            " batch_normalization_1 (Bat  (None, 192)               768       \n",
            " chNormalization)                                                \n",
            "                                                                 \n",
            " dropout_1 (Dropout)         (None, 192)               0         \n",
            "                                                                 \n",
            " dense_2 (Dense)             (None, 3)                 579       \n",
            "                                                                 \n",
            "=================================================================\n",
            "Total params: 62467 (244.01 KB)\n",
            "Trainable params: 61571 (240.51 KB)\n",
            "Non-trainable params: 896 (3.50 KB)\n",
            "_________________________________________________________________\n"
          ]
        }
      ]
    },
    {
      "cell_type": "code",
      "source": [
        "# Transform Input columns\n",
        "def transform_resp(resp):\n",
        "    def yes_no(column):\n",
        "        if resp[column] == 'Yes':\n",
        "            return 1\n",
        "        else:\n",
        "            return 0\n",
        "# LOANS TYPES\n",
        "    loans = {\n",
        "        'Credit-Builder Loan': 0,\n",
        "        'Personal Loan': 0,\n",
        "        'Debt Consolidation Loan': 0,\n",
        "        'Student Loan': 0,\n",
        "        'Payday Loan': 0,\n",
        "        'Mortgage Loan': 0,\n",
        "        'Auto Loan': 0,\n",
        "        'Home Equity Loan': 0\n",
        "    }\n",
        "\n",
        "    if resp['loans'] == None:\n",
        "        loans['Credit-Builder Loan'] = 0\n",
        "        loans['Personal Loan'] = 0\n",
        "        loans['Debt Consolidation Loan'] = 0\n",
        "        loans['Student Loan'] = 0\n",
        "        loans['Payday Loan'] = 0\n",
        "        loans['Mortgage Loan'] = 0\n",
        "        loans['Auto Loan'] = 0\n",
        "        loans['Home Equity Loan'] = 0\n",
        "    else:\n",
        "        for key_ans in loans.keys():\n",
        "            if key_ans in resp['loans']:\n",
        "                loans[key_ans] = 1\n",
        "\n",
        "\n",
        "\n",
        "# OCCUPATION:\n",
        "    occupation = {\n",
        "        'Architect': None,\n",
        "        'Developer' : None,\n",
        "        'Doctor': None,\n",
        "        'Engineer': None,\n",
        "        'Entrepreneur': None,\n",
        "        'Journalist': None,\n",
        "        'Lawyer': None,\n",
        "        'Manager': None,\n",
        "        'Mechanic': None,\n",
        "        'Media_Manager': None,\n",
        "        'Musician': None,\n",
        "        'Scientist': None,\n",
        "        'Teacher': None,\n",
        "        'Writer': None\n",
        "    }\n",
        "\n",
        "    if resp['occupation'] == None:\n",
        "        occupation['Architect'] = None\n",
        "        occupation['Developer'] = None\n",
        "        occupation['Doctor'] = None\n",
        "        occupation['Engineer'] = None\n",
        "        occupation['Entrepreneur'] = None\n",
        "        occupation['Journalist'] = None\n",
        "        occupation['Lawyer'] = None\n",
        "        occupation['Manager'] = None\n",
        "        occupation['Mechanic'] = None\n",
        "        occupation['Media_Manager'] = None\n",
        "        occupation['Musician'] = None\n",
        "        occupation['Scientist'] = None\n",
        "        occupation['Teacher'] = None\n",
        "        occupation['Writer'] = None\n",
        "    else:\n",
        "        for key_ans in occupation.keys():\n",
        "            if key_ans in resp['occupation']:\n",
        "                occupation[key_ans] = 1\n",
        "\n",
        "# COLUMNS\n",
        "    output = {\n",
        "        'Age': resp['age'],\n",
        "        'Annual_Income': resp['annual_income'],\n",
        "        'Monthly_Inhand_Salary':resp['monthly_inhand_salary'],\n",
        "        'Num_Bank_Accounts': resp['accounts'],\n",
        "        'Num_Credit_Card': resp['credit_cards'],\n",
        "        'Interest_Rate': resp['changed_credit_limit'],\n",
        "        'Num_of_Loan': resp['noof_loans'],\n",
        "        'Delay_from_due_date': resp['delay_from_due_date'],\n",
        "        'Num_of_Delayed_Payment': resp['delayed_payments'],\n",
        "        'Changed_Credit_Limit': resp['changed_credit_limit'],\n",
        "        'Num_Credit_Inquiries': resp['num_credit_inquiries'],\n",
        "        'Credit_Mix': resp['credit_mix'],\n",
        "        'Outstanding_Debt': resp['outstanding_debt'],\n",
        "        'Credit_Utilization_Ratio': resp['credit_card_ratio'],\n",
        "        'Credit_History_Age': resp['credit_history'],\n",
        "        'Total_EMI_per_month': resp['emi_monthly'],\n",
        "        'Amount_invested_monthly': resp['amount_invested_monthly'],\n",
        "        'Monthly_Balance': resp['monthly_balance'],\n",
        "        'Credit-Builder_Loan': loans['Credit-Builder Loan'],\n",
        "        'Personal Loan': loans['Personal Loan'],\n",
        "        'Debt Consolidation Loan': loans['Debt Consolidation Loan'],\n",
        "        'Student Loan': loans['Student Loan'],\n",
        "        'Payday Loan': loans['Payday Loan'],\n",
        "        'Mortgage Loan': loans['Mortgage Loan'],\n",
        "        'Auto Loan': loans['Auto Loan'],\n",
        "        'Home Equity Loan': loans['Home Equity Loan'],\n",
        "        'Occupation_Architect': occupation['Architect'],\n",
        "        'Occupation_Developer': occupation['Developer'],\n",
        "        'Occupation_Doctor': occupation['Doctor'],\n",
        "        'Occupation_Engineer': occupation['Engineer'],\n",
        "        'Occupation_Entrepreneur': occupation['Entrepreneur'],\n",
        "        'Occupation_Journalist': occupation['Journalist'],\n",
        "        'Occupation_Lawyer': occupation['Lawyer'],\n",
        "        'Occupation_Manager': occupation['Manager'],\n",
        "        'Occupation_Mechanic': occupation['Mechanic'],\n",
        "        'Occupation_Media_Manager': occupation['Media_Manager'],\n",
        "        'Occupation_Musician': occupation['Musician'],\n",
        "        'Occupation_Scientist': occupation['Scientist'],\n",
        "        'Occupation_Teacher': occupation['Teacher'],\n",
        "        'Occupation_Writer': occupation['Writer'],\n",
        "        'Payment_of_Min_Amount_Yes': yes_no('minimum_payment'),\n",
        "\n",
        "    }\n",
        "\n",
        "    return output"
      ],
      "metadata": {
        "id": "YDPsIkQ7DrXl"
      },
      "execution_count": 12,
      "outputs": []
    },
    {
      "cell_type": "code",
      "source": [
        "st.set_page_config(page_title='Credit Score App', page_icon='💰', layout='wide',\n",
        "                   initial_sidebar_state='auto', menu_items={\n",
        "                        'Get Help': None,\n",
        "                          })\n",
        "\n"
      ],
      "metadata": {
        "id": "J5Uv64FECAT-"
      },
      "execution_count": 13,
      "outputs": []
    },
    {
      "cell_type": "code",
      "source": [
        "# Defining Default values\n",
        "age_default = None\n",
        "annual_income_default = 0.00\n",
        "monthly_inhand_salary_default = 0.00\n",
        "accounts_default = 0\n",
        "credit_cards_default = 0\n",
        "interest_rate_default = 0\n",
        "noof_loans_default = 0\n",
        "delay_from_due_date_default = 0\n",
        "delayed_payments_default = 0\n",
        "changed_credit_limit_default = 0\n",
        "num_credit_inquiries_default = 0\n",
        "credit_mix_default = 0.00\n",
        "outstanding_debt_default = 0.00\n",
        "credit_card_ratio_default = 0.00\n",
        "emi_monthly_default = 0.00\n",
        "amount_invested_monthly_default = 0.00\n",
        "monthly_balance_default = 0.00\n",
        "credit_history_default = 0\n",
        "loans_default = None\n",
        "missed_payment_default = 0\n",
        "minimum_payment_default = 0\n",
        "payment_behaviour_default = None\n",
        "month_default = None"
      ],
      "metadata": {
        "id": "ZHyzOlopM4G5"
      },
      "execution_count": 14,
      "outputs": []
    },
    {
      "cell_type": "code",
      "source": [
        "st.title('Credit Score Analysis')\n"
      ],
      "metadata": {
        "colab": {
          "base_uri": "https://localhost:8080/"
        },
        "id": "CUf4BgUlNFUz",
        "outputId": "7932965b-4609-48cc-fd10-5f58177f33ed"
      },
      "execution_count": 15,
      "outputs": [
        {
          "output_type": "stream",
          "name": "stderr",
          "text": [
            "2023-10-08 13:05:45.983 \n",
            "  \u001b[33m\u001b[1mWarning:\u001b[0m to view this Streamlit app on a browser, run it with the following\n",
            "  command:\n",
            "\n",
            "    streamlit run /usr/local/lib/python3.10/dist-packages/colab_kernel_launcher.py [ARGUMENTS]\n"
          ]
        },
        {
          "output_type": "execute_result",
          "data": {
            "text/plain": [
              "DeltaGenerator()"
            ]
          },
          "metadata": {},
          "execution_count": 15
        }
      ]
    },
    {
      "cell_type": "code",
      "source": [
        "# Input Values\n",
        "with st.sidebar:\n",
        "    st.header('Credit Score Prediction Form')\n",
        "    age = st.slider('What is your age?', min_value=18, max_value=100, step=1, value=age_default)\n",
        "    annual_income = st.number_input('What is your Annual Income?', min_value=0.00, max_value=300000.00, value=annual_income_default)\n",
        "    monthly_inhand_salary = st.number_input('What is your monthly Inhand Salary?', min_value=0.00, max_value=300000.00, value=monthly_inhand_salary_default)\n",
        "    accounts = st.number_input('How many bank accounts do you have?', min_value=0, max_value=20, step=1, value=accounts_default)\n",
        "    credit_cards = st.number_input('How many credit cards do you have?', min_value=0, max_value=12, step=1, value=credit_cards_default)\n",
        "    interest_rate = st.slider('What is your interest rate?', min_value=2, max_value=100, step=1, value=interest_rate_default)\n",
        "    noof_loans = st.number_input('How many loans do you have ?', min_value=0, max_value=10, step=1, value=noof_loans_default)\n",
        "    delay_from_due_date = st.number_input('How many days payment is delayed ?', min_value=0, max_value=10, step=1, value=delay_from_due_date_default)\n",
        "    delayed_payments = st.number_input('How many delayed payments do you have?', min_value=0, max_value=20, step=1, value=delayed_payments_default)\n",
        "    changed_credit_limit = st.number_input('what is the change in credit limit?', min_value=0, max_value=40, step=1, value=changed_credit_limit_default)\n",
        "    num_credit_inquiries = st.number_input('How many credit inquiries', min_value=0, max_value=5, step=1, value=num_credit_inquiries_default)\n",
        "    credit_mix = st.number_input('What is your Credit Mix?,pls enter Good:2,Standard:1 Bad:0', min_value=0.00, max_value=2.00, value=credit_mix_default)\n",
        "    outstanding_debt = st.number_input('How much how standing debt you have ?', min_value=0.00, max_value=1500.00, value=outstanding_debt_default)\n",
        "    credit_card_ratio = st.slider('What is your credit card utilization ratio?', min_value=0.00, max_value=100.00, value=credit_card_ratio_default)\n",
        "    credit_history = st.number_input('How many months old is your credit history?', min_value=0, max_value=500, step=1, value=credit_history_default)\n",
        "    emi_monthly = st.number_input('How much EMI do you pay monthly?', min_value=0.00, max_value=5000.00, value=emi_monthly_default)\n",
        "    amount_invested_monthly = st.number_input('How much amount you invest monthly?', min_value=0.00, max_value=5000.00, value=amount_invested_monthly_default)\n",
        "    monthly_balance = st.number_input('How much monthly balance do you have?', min_value=0.00, max_value=5000.00, value=monthly_balance_default)\n",
        "    loans = st.multiselect('Which loans do you have?', ['Auto Loan', 'Credit-Builder Loan', 'Personal Loan',\n",
        "                                                'Home Equity Loan', 'Mortgage Loan', 'Student Loan',\n",
        "                                                'Debt Consolidation Loan', 'Payday Loan'], default=loans_default)\n",
        "    occupation = st.selectbox('What is your Occupation?', ['Doctor','Engineer', 'Entrepreneur', 'Journalist', 'Lawyer', 'Manager', 'Mechanic', 'Media_Manager', 'Musician', 'Scientist', 'Teacher', 'Writer'])\n",
        "\n",
        "    minimum_payment = st.radio('Have you paid the minimum amount on at least one of your credit cards?', ['Yes', 'No'], index=minimum_payment_default)\n",
        "\n",
        "\n",
        "    run = st.button( 'Predict Credit Score!')\n"
      ],
      "metadata": {
        "id": "A2MNT66vNMgp",
        "outputId": "a5f61c96-e5c2-4845-c4a1-86a6b554217c",
        "colab": {
          "base_uri": "https://localhost:8080/"
        }
      },
      "execution_count": 16,
      "outputs": [
        {
          "output_type": "stream",
          "name": "stderr",
          "text": [
            "2023-10-08 13:05:48.934 Session state does not function when running a script without `streamlit run`\n"
          ]
        }
      ]
    },
    {
      "cell_type": "code",
      "source": [
        "col1, col2 = st.columns([3, 2])\n",
        "\n",
        "with col2:\n",
        "    x1 = [0, 6, 0]\n",
        "    x2 = [0, 4, 0]\n",
        "    x3 = [0, 2, 0]\n",
        "    y = ['0', '1', '2']\n",
        "\n",
        "    f, ax = plt.subplots(figsize=(5,2))\n",
        "\n",
        "    p1 = sns.barplot(x=x1, y=y, color='#3EC300')\n",
        "    p1.set(xticklabels=[], yticklabels=[])\n",
        "    p1.tick_params(bottom=False, left=False)\n",
        "    p2 = sns.barplot(x=x2, y=y, color='#FAA300')\n",
        "    p2.set(xticklabels=[], yticklabels=[])\n",
        "    p2.tick_params(bottom=False, left=False)\n",
        "    p3 = sns.barplot(x=x3, y=y, color='#FF331F')\n",
        "    p3.set(xticklabels=[], yticklabels=[])\n",
        "    p3.tick_params(bottom=False, left=False)\n",
        "\n",
        "    plt.text(0.7, 1.05, \"POOR\", horizontalalignment='left', size='medium', color='white', weight='semibold')\n",
        "    plt.text(2.5, 1.05, \"STANDARD\", horizontalalignment='left', size='medium', color='white', weight='semibold')\n",
        "    plt.text(4.7, 1.05, \"GOOD\", horizontalalignment='left', size='medium', color='white', weight='semibold')\n",
        "\n",
        "    ax.set(xlim=(0, 6))\n",
        "    sns.despine(left=True, bottom=True)\n",
        "    figure = st.pyplot(f)\n",
        "\n",
        "with col1:\n",
        "\n",
        "    placeholder = st.empty()\n",
        "\n",
        "    if run:\n",
        "        resp = {\n",
        "            'age': age,\n",
        "            'annual_income': annual_income,\n",
        "            'monthly_inhand_salary': monthly_inhand_salary,\n",
        "            'accounts': accounts,\n",
        "            'credit_cards': credit_cards,\n",
        "            'interest_rate': interest_rate,\n",
        "            'noof_loans': noof_loans,\n",
        "            'delay_from_due_date': delay_from_due_date,\n",
        "            'delayed_payments': delayed_payments,\n",
        "            'changed_credit_limit': changed_credit_limit,\n",
        "            'num_credit_inquiries': num_credit_inquiries,\n",
        "            'credit_mix': credit_mix,\n",
        "            'outstanding_debt': outstanding_debt,\n",
        "            'credit_card_ratio': credit_card_ratio,\n",
        "            'credit_history': credit_history,\n",
        "            'emi_monthly': emi_monthly,\n",
        "            'amount_invested_monthly': amount_invested_monthly,\n",
        "            'monthly_balance': monthly_balance,\n",
        "            'loans': loans,\n",
        "            'occupation': occupation,\n",
        "            'minimum_payment': minimum_payment\n",
        "               }\n",
        "        output = transform_resp(resp)\n",
        "        output = pd.DataFrame(output, index=[0])\n",
        "        output.loc[:,:] = scaler.transform(output)\n",
        "        preds = model.predict(output)\n",
        "        prediction = str(preds.argmax(axis=1))\n",
        "        credit_score = prediction[1]\n",
        "        if credit_score == 2:\n",
        "            st.balloons()\n",
        "            t1 = plt.Polygon([[5, 0.5], [5.5, 0], [4.5, 0]], color='black')\n",
        "            placeholder.markdown('Your credit score is **GOOD**! Congratulations!')\n",
        "            st.markdown('This credit score indicates that this person is likely to repay a loan, so the risk of giving them credit is low.')\n",
        "        elif credit_score == 1:\n",
        "            t1 = plt.Polygon([[3, 0.5], [3.5, 0], [2.5, 0]], color='black')\n",
        "            placeholder.markdown('Your credit score is **STANDARD**.')\n",
        "            st.markdown('This credit score indicates that this person is likely to repay a loan, but can occasionally miss some payments. Meaning that the risk of giving them credit is medium.')\n",
        "        elif credit_score == 0:\n",
        "            t1 = plt.Polygon([[1, 0.5], [1.5, 0], [0.5, 0]], color='black')\n",
        "            placeholder.markdown('Your credit score is **POOR**.')\n",
        "            st.markdown('This credit score indicates that this person is unlikely to repay a loan, so the risk of lending them credit is high.')\n",
        "        plt.gca().add_patch(t1)\n",
        "        figure.pyplot(f)\n",
        "        prob_fig, ax = plt.subplots()\n",
        "\n"
      ],
      "metadata": {
        "id": "wjdcMgRUVei_",
        "outputId": "1c669dc3-9bbe-41d8-e04a-c66438dc5c82",
        "colab": {
          "base_uri": "https://localhost:8080/",
          "height": 191
        }
      },
      "execution_count": 17,
      "outputs": [
        {
          "output_type": "display_data",
          "data": {
            "text/plain": [
              "<Figure size 500x200 with 1 Axes>"
            ],
            "image/png": "[encoded data removed]"
          },
          "metadata": {}
        }
      ]
    }
  ]
}